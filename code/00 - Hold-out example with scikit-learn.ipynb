{
 "cells": [
  {
   "cell_type": "markdown",
   "id": "2192e56e-240f-4e19-9f04-4efc8b689d73",
   "metadata": {},
   "source": [
    "# Example of hold-out approach\n",
    "\n",
    "Example adapted from the official documentation\n",
    "\n",
    "Author: Umberto Michelucci, TOELT LLC"
   ]
  },
  {
   "cell_type": "code",
   "execution_count": 1,
   "id": "e3968067-0fd9-483a-8fd3-a4d075380d1a",
   "metadata": {},
   "outputs": [],
   "source": [
    "# matplotlib is a library to plot all sort of data\n",
    "import matplotlib.pyplot as plt\n",
    "\n",
    "# Import datasets, classifiers and performance metrics\n",
    "from sklearn import datasets, svm, metrics\n",
    "from sklearn.model_selection import train_test_split"
   ]
  },
  {
   "cell_type": "markdown",
   "id": "9a1bdd51-0ce6-4e7b-9e52-21c237bb7281",
   "metadata": {},
   "source": [
    "In ```scikit-learn``` there are several datasets available for trying out features. They are in the package ```datasets```. In this example we load the digits dataset. That is a low-resolution version of the MNIST dataset.\n",
    "\n",
    "# The Digits Dataset\n",
    "\n",
    "The dataset obtained from the `datasets.load_digits()` function in scikit-learn is a collection of hand-written digits, commonly used for practicing classification algorithms, particularly in the field of machine learning for image recognition. Here's a detailed description:\n",
    "\n",
    "### Overview of the Digits Dataset\n",
    "1. **Content**:\n",
    "   - The dataset contains 1,797 images of hand-written digits (0 through 9).\n",
    "   - Each image is a grayscale bitmap of 8x8 pixels, which means every image is represented as a 64-dimensional vector of pixel intensities.\n",
    "\n",
    "2. **Target Variable**:\n",
    "   - The target associated with each image is a digit from 0 to 9, indicating the actual number that the hand-written digit represents.\n",
    "\n",
    "3. **Usage**:\n",
    "   - It's primarily used for classification tasks, where the goal is to correctly identify the digit in each image.\n",
    "   - Suitable for practicing techniques in image processing, machine learning classification algorithms, and pattern recognition.\n",
    "\n",
    "### Loading the Dataset\n",
    "- The dataset can be loaded using the `load_digits()` function:\n",
    "  ```python\n",
    "  from sklearn import datasets\n",
    "  digits = datasets.load_digits()\n",
    "  ```\n",
    "\n",
    "### Key Features\n",
    "1. **Data Attributes**:\n",
    "   - `images`: The actual pixel data of the digits images. Each element is a 2D array of 8x8, representing an image.\n",
    "   - `data`: The `images` array flattened into a 1D array of 64 pixel values, suitable for use with standard classifiers.\n",
    "   - `target`: The label for each image. A number indicating the hand-written digit (0-9) the image represents.\n",
    "   - `target_names`: An array of digits, from 0 to 9, representing the possible digits.\n",
    "\n",
    "2. **Visualization**:\n",
    "   - Images can be visualized using matplotlib or similar libraries in Python, which is often helpful for understanding the nature of the data.\n",
    "\n",
    "3. **Preprocessing**:\n",
    "   - While the dataset is relatively clean and preprocessed, standard machine learning practices like normalization or scaling pixel values can be applied.\n",
    "\n",
    "### Example Code\n",
    "```python\n",
    "import matplotlib.pyplot as plt\n",
    "from sklearn import datasets\n",
    "\n",
    "digits = datasets.load_digits()\n",
    "\n",
    "# Display the first digit\n",
    "plt.figure(figsize=(2, 2))\n",
    "plt.imshow(digits.images[0], cmap=plt.cm.gray_r, interpolation='nearest')\n",
    "plt.show()\n",
    "\n",
    "print('Target label:', digits.target[0])\n",
    "```\n",
    "\n",
    "### Applications and Challenges\n",
    "- **Educational Tool**: It's an excellent dataset for educational purposes, especially for beginners to learn image classification.\n",
    "- **Benchmarking**: Often used to benchmark performance of various classification algorithms.\n",
    "- **Challenges**: While the dataset is relatively simple compared to real-world image datasets, it can be used to tackle challenges like image noise reduction, feature extraction, and multi-class classification.\n",
    "\n"
   ]
  },
  {
   "cell_type": "code",
   "execution_count": 2,
   "id": "ee41ca9c-bd76-4f28-a3cb-cfa3c2b2c815",
   "metadata": {},
   "outputs": [
    {
     "data": {
      "image/png": "[encoded data removed]",
      "text/plain": [
       "<Figure size 1000x300 with 4 Axes>"
      ]
     },
     "metadata": {},
     "output_type": "display_data"
    }
   ],
   "source": [
    "digits = datasets.load_digits()\n",
    "\n",
    "_, axes = plt.subplots(nrows=1, ncols=4, figsize=(10, 3))\n",
    "for ax, image, label in zip(axes, digits.images, digits.target):\n",
    "    ax.set_axis_off()\n",
    "    ax.imshow(image, cmap=plt.cm.gray_r, interpolation=\"nearest\")\n",
    "    ax.set_title(\"Training: %i\" % label)"
   ]
  },
  {
   "cell_type": "markdown",
   "metadata": {},
   "source": [
    "## The ```shape``` property of a numpy array\n",
    "\n",
    "The `shape` property of a NumPy array is a fundamental attribute that gives a tuple representing the dimensions (size along each axis) of the array. Understanding and using the `shape` property is crucial in many aspects of data manipulation and analysis in Python, especially when working with arrays and performing mathematical operations. Here's a detailed description:\n",
    "\n",
    "### Overview of `shape` Property in NumPy Arrays\n",
    "1. **Definition**:\n",
    "   - The `shape` property returns a tuple of integers indicating the size of the array in each dimension.\n",
    "\n",
    "2. **Structure**:\n",
    "   - For a 1D array, `shape` returns a tuple with a single element, indicating the number of elements in the array (length of the array).\n",
    "   - For a 2D array (matrix), `shape` returns a tuple with two elements. The first is the number of rows, and the second is the number of columns.\n",
    "   - Similarly, for higher-dimensional arrays, `shape` extends to more elements, each representing the size of the array along a particular axis.\n",
    "\n",
    "### Usage and Examples\n",
    "1. **1D Array (Vector)**:\n",
    "   ```python\n",
    "   import numpy as np\n",
    "   a = np.array([1, 2, 3, 4, 5])\n",
    "   print(a.shape)  # Output: (5,)\n",
    "   ```\n",
    "   - This indicates the array `a` has 5 elements.\n",
    "\n",
    "2. **2D Array (Matrix)**:\n",
    "   ```python\n",
    "   b = np.array([[1, 2, 3], [4, 5, 6]])\n",
    "   print(b.shape)  # Output: (2, 3)\n",
    "   ```\n",
    "   - Here, `b` is a 2x3 matrix (2 rows and 3 columns).\n",
    "\n",
    "3. **Higher Dimensions**:\n",
    "   ```python\n",
    "   c = np.array([[[1, 2], [3, 4]], [[5, 6], [7, 8]]])\n",
    "   print(c.shape)  # Output: (2, 2, 2)\n",
    "   ```\n",
    "   - `c` is a 3D array with 2 layers, each containing 2 rows and 2 columns.\n",
    "\n",
    "### Importance in Data Analysis and Manipulation\n",
    "- **Reshaping Arrays**: Understanding the current shape of an array is critical when reshaping it (e.g., when using `np.reshape`).\n",
    "- **Compatibility Checks**: In operations involving multiple arrays (like matrix multiplication), ensuring compatible shapes is essential.\n",
    "- **Dimensionality Insight**: It provides immediate insight into the number of dimensions and the size along each dimension of the array."
   ]
  },
  {
   "cell_type": "code",
   "execution_count": 5,
   "id": "7b1af715-f205-4920-a17a-4dd44338ac14",
   "metadata": {},
   "outputs": [
    {
     "data": {
      "text/plain": [
       "(1797, 8, 8)"
      ]
     },
     "execution_count": 5,
     "metadata": {},
     "output_type": "execute_result"
    }
   ],
   "source": [
    "digits.images.shape"
   ]
  },
  {
   "cell_type": "code",
   "execution_count": 6,
   "id": "9ded1721-c1bb-421f-9d3e-f321fe632bb3",
   "metadata": {},
   "outputs": [
    {
     "data": {
      "text/plain": [
       "numpy.ndarray"
      ]
     },
     "execution_count": 6,
     "metadata": {},
     "output_type": "execute_result"
    }
   ],
   "source": [
    "# We check the datatype of digits.images\n",
    "type(digits.images)"
   ]
  },
  {
   "cell_type": "markdown",
   "id": "f450b8c2-f613-4b60-a3d2-9ddbe2b49cb0",
   "metadata": {},
   "source": [
    "# Data Preparation"
   ]
  },
  {
   "cell_type": "markdown",
   "id": "ab1dd429-98ad-47cd-a5a2-39056fa231f5",
   "metadata": {},
   "source": [
    "In this example, we will use a support vector classifier. This kind of model does not understand 2D data structures (as images are), and thus we need to flatten the images. The original dataset are ```8x8``` in size. "
   ]
  },
  {
   "cell_type": "code",
   "execution_count": 7,
   "id": "7681a8a1-d891-4779-acac-aa9209d281ba",
   "metadata": {},
   "outputs": [],
   "source": [
    "# flatten the images\n",
    "n_samples = len(digits.images)\n",
    "data = digits.images.reshape((n_samples, -1))"
   ]
  },
  {
   "cell_type": "code",
   "execution_count": 8,
   "id": "78b833bd-a179-4919-a54d-49eb3472a226",
   "metadata": {},
   "outputs": [
    {
     "data": {
      "text/plain": [
       "(1797, 64)"
      ]
     },
     "execution_count": 8,
     "metadata": {},
     "output_type": "execute_result"
    }
   ],
   "source": [
    "data.shape"
   ]
  },
  {
   "cell_type": "markdown",
   "id": "203e9ac9-8603-4271-aee6-61aef576793f",
   "metadata": {},
   "source": [
    "after flattening the 2D image has been converted to a one-dimensional vector with 64 elements (8x8)."
   ]
  },
  {
   "cell_type": "markdown",
   "id": "13fd4319-83f4-4481-8424-38f113f8b9ab",
   "metadata": {},
   "source": [
    "# Train the model"
   ]
  },
  {
   "cell_type": "markdown",
   "id": "340736bf-f4ae-4ffd-aa9e-eea9e2d41f02",
   "metadata": {},
   "source": [
    "In the next cell you can see a good example of the **hold-out** approach to model validation. You will learn more about it in one of the next lectures."
   ]
  },
  {
   "cell_type": "code",
   "execution_count": 9,
   "id": "4a480eab-0b68-48c6-aaef-cb6a61677242",
   "metadata": {},
   "outputs": [
    {
     "data": {
      "text/html": [
       "<style>#sk-container-id-1 {color: black;}#sk-container-id-1 pre{padding: 0;}#sk-container-id-1 div.sk-toggleable {background-color: white;}#sk-container-id-1 label.sk-toggleable__label {cursor: pointer;display: block;width: 100%;margin-bottom: 0;padding: 0.3em;box-sizing: border-box;text-align: center;}#sk-container-id-1 label.sk-toggleable__label-arrow:before {content: \"▸\";float: left;margin-right: 0.25em;color: #696969;}#sk-container-id-1 label.sk-toggleable__label-arrow:hover:before {color: black;}#sk-container-id-1 div.sk-estimator:hover label.sk-toggleable__label-arrow:before {color: black;}#sk-container-id-1 div.sk-toggleable__content {max-height: 0;max-width: 0;overflow: hidden;text-align: left;background-color: #f0f8ff;}#sk-container-id-1 div.sk-toggleable__content pre {margin: 0.2em;color: black;border-radius: 0.25em;background-color: #f0f8ff;}#sk-container-id-1 input.sk-toggleable__control:checked~div.sk-toggleable__content {max-height: 200px;max-width: 100%;overflow: auto;}#sk-container-id-1 input.sk-toggleable__control:checked~label.sk-toggleable__label-arrow:before {content: \"▾\";}#sk-container-id-1 div.sk-estimator input.sk-toggleable__control:checked~label.sk-toggleable__label {background-color: #d4ebff;}#sk-container-id-1 div.sk-label input.sk-toggleable__control:checked~label.sk-toggleable__label {background-color: #d4ebff;}#sk-container-id-1 input.sk-hidden--visually {border: 0;clip: rect(1px 1px 1px 1px);clip: rect(1px, 1px, 1px, 1px);height: 1px;margin: -1px;overflow: hidden;padding: 0;position: absolute;width: 1px;}#sk-container-id-1 div.sk-estimator {font-family: monospace;background-color: #f0f8ff;border: 1px dotted black;border-radius: 0.25em;box-sizing: border-box;margin-bottom: 0.5em;}#sk-container-id-1 div.sk-estimator:hover {background-color: #d4ebff;}#sk-container-id-1 div.sk-parallel-item::after {content: \"\";width: 100%;border-bottom: 1px solid gray;flex-grow: 1;}#sk-container-id-1 div.sk-label:hover label.sk-toggleable__label {background-color: #d4ebff;}#sk-container-id-1 div.sk-serial::before {content: \"\";position: absolute;border-left: 1px solid gray;box-sizing: border-box;top: 0;bottom: 0;left: 50%;z-index: 0;}#sk-container-id-1 div.sk-serial {display: flex;flex-direction: column;align-items: center;background-color: white;padding-right: 0.2em;padding-left: 0.2em;position: relative;}#sk-container-id-1 div.sk-item {position: relative;z-index: 1;}#sk-container-id-1 div.sk-parallel {display: flex;align-items: stretch;justify-content: center;background-color: white;position: relative;}#sk-container-id-1 div.sk-item::before, #sk-container-id-1 div.sk-parallel-item::before {content: \"\";position: absolute;border-left: 1px solid gray;box-sizing: border-box;top: 0;bottom: 0;left: 50%;z-index: -1;}#sk-container-id-1 div.sk-parallel-item {display: flex;flex-direction: column;z-index: 1;position: relative;background-color: white;}#sk-container-id-1 div.sk-parallel-item:first-child::after {align-self: flex-end;width: 50%;}#sk-container-id-1 div.sk-parallel-item:last-child::after {align-self: flex-start;width: 50%;}#sk-container-id-1 div.sk-parallel-item:only-child::after {width: 0;}#sk-container-id-1 div.sk-dashed-wrapped {border: 1px dashed gray;margin: 0 0.4em 0.5em 0.4em;box-sizing: border-box;padding-bottom: 0.4em;background-color: white;}#sk-container-id-1 div.sk-label label {font-family: monospace;font-weight: bold;display: inline-block;line-height: 1.2em;}#sk-container-id-1 div.sk-label-container {text-align: center;}#sk-container-id-1 div.sk-container {/* jupyter's `normalize.less` sets `[hidden] { display: none; }` but bootstrap.min.css set `[hidden] { display: none !important; }` so we also need the `!important` here to be able to override the default hidden behavior on the sphinx rendered scikit-learn.org. See: https://github.com/scikit-learn/scikit-learn/issues/21755 */display: inline-block !important;position: relative;}#sk-container-id-1 div.sk-text-repr-fallback {display: none;}</style><div id=\"sk-container-id-1\" class=\"sk-top-container\"><div class=\"sk-text-repr-fallback\"><pre>SVC(gamma=0.001)</pre><b>In a Jupyter environment, please rerun this cell to show the HTML representation or trust the notebook. <br />On GitHub, the HTML representation is unable to render, please try loading this page with nbviewer.org.</b></div><div class=\"sk-container\" hidden><div class=\"sk-item\"><div class=\"sk-estimator sk-toggleable\"><input class=\"sk-toggleable__control sk-hidden--visually\" id=\"sk-estimator-id-1\" type=\"checkbox\" checked><label for=\"sk-estimator-id-1\" class=\"sk-toggleable__label sk-toggleable__label-arrow\">SVC</label><div class=\"sk-toggleable__content\"><pre>SVC(gamma=0.001)</pre></div></div></div></div></div>"
      ],
      "text/plain": [
       "SVC(gamma=0.001)"
      ]
     },
     "execution_count": 9,
     "metadata": {},
     "output_type": "execute_result"
    }
   ],
   "source": [
    "# Create a classifier: a support vector classifier\n",
    "clf = svm.SVC(gamma=0.001)\n",
    "\n",
    "# Split data into 50% train and 50% test subsets\n",
    "# This is an example of the hold-out approach for\n",
    "# model validation.\n",
    "X_train, X_test, y_train, y_test = train_test_split(\n",
    "    data, digits.target, test_size=0.5, shuffle=False\n",
    ")\n",
    "\n",
    "# Learn the digits on the train subset\n",
    "clf.fit(X_train, y_train)\n"
   ]
  },
  {
   "cell_type": "markdown",
   "id": "6985e1d3-1d8d-4c19-9e7d-8effa78ec80f",
   "metadata": {},
   "source": [
    "After splitting the datasets we now have two: a train and a test portion. We can easily check their shapes."
   ]
  },
  {
   "cell_type": "code",
   "execution_count": 10,
   "id": "002e9175-43a7-445a-bbb1-9e26cadc9e62",
   "metadata": {},
   "outputs": [
    {
     "name": "stdout",
     "output_type": "stream",
     "text": [
      "Train set shape:  (898, 64)\n",
      "Test set shape:  (899, 64)\n"
     ]
    }
   ],
   "source": [
    "print(\"Train set shape: \", X_train.shape)\n",
    "print(\"Test set shape: \", X_test.shape)"
   ]
  },
  {
   "cell_type": "markdown",
   "id": "9920c79f-70d5-4391-b84a-1d06d62a24eb",
   "metadata": {},
   "source": [
    "# Evaluate the model on the test dataset"
   ]
  },
  {
   "cell_type": "code",
   "execution_count": 11,
   "id": "824cd29f-667d-40b1-a481-22e2fca82c8e",
   "metadata": {},
   "outputs": [],
   "source": [
    "# Predict the value of the digit on the test subset\n",
    "predicted = clf.predict(X_test)"
   ]
  },
  {
   "cell_type": "markdown",
   "id": "b77cba83-0606-4385-8862-cf76e7558c51",
   "metadata": {},
   "source": [
    "# Show the prediction visually"
   ]
  },
  {
   "cell_type": "code",
   "execution_count": 12,
   "id": "a4b9980e-b5b6-4cb7-af73-dfb39d22c6e5",
   "metadata": {},
   "outputs": [
    {
     "data": {
      "image/png": "[encoded data removed]",
      "text/plain": [
       "<Figure size 1000x300 with 4 Axes>"
      ]
     },
     "metadata": {},
     "output_type": "display_data"
    }
   ],
   "source": [
    "_, axes = plt.subplots(nrows=1, ncols=4, figsize=(10, 3))\n",
    "for ax, image, prediction in zip(axes, X_test, predicted):\n",
    "    ax.set_axis_off()\n",
    "    image = image.reshape(8, 8)\n",
    "    ax.imshow(image, cmap=plt.cm.gray_r, interpolation=\"nearest\")\n",
    "    ax.set_title(f\"Prediction: {prediction}\")"
   ]
  },
  {
   "cell_type": "markdown",
   "id": "e50fc31a-ab6e-4031-a8a8-33a0d5a1c8fe",
   "metadata": {},
   "source": [
    "## Other useful features of ```scikit-learn```"
   ]
  },
  {
   "cell_type": "markdown",
   "metadata": {},
   "source": [
    "## The ```classification_report()``` Function\n",
    "\n",
    "`classification_report()` is a function in scikit-learn, a popular Python library for machine learning. It is used to evaluate the quality of predictions from a classification algorithm. Here's a detailed description:\n",
    "\n",
    "### Overview of `classification_report()`\n",
    "1. **Purpose**:\n",
    "   - The `classification_report()` function computes and presents key metrics that are essential for evaluating the performance of a classification model.\n",
    "\n",
    "2. **Functionality**:\n",
    "   - It generates a report showing the main classification metrics, including precision, recall, f1-score, and support for each class.\n",
    "\n",
    "### Key Features and Metrics\n",
    "1. **Syntax**:\n",
    "   ```python\n",
    "   from sklearn.metrics import classification_report\n",
    "   report = classification_report(y_true, y_pred, labels=None, target_names=None, ...)\n",
    "   ```\n",
    "   - `y_true`: True labels of the data.\n",
    "   - `y_pred`: Predicted labels by the classifier.\n",
    "   - `labels`: Optional list of label indices to include in the report.\n",
    "   - `target_names`: Optional display names matching the labels (classes).\n",
    "\n",
    "2. **Metrics Explained**:\n",
    "   - **Precision**: The ratio of correctly predicted positive observations to the total predicted positives. It's a measure of a classifier's exactness.\n",
    "   - **Recall (Sensitivity)**: The ratio of correctly predicted positive observations to all observations in the actual class. It's a measure of a classifier's completeness.\n",
    "   - **F1 Score**: The weighted average of Precision and Recall. It balances between precision and recall.\n",
    "   - **Support**: The number of actual occurrences of the class in the specified dataset.\n",
    "\n",
    "3. **Usage**:\n",
    "   - Commonly used in classification tasks to assess the strengths and weaknesses of a classification model.\n",
    "   - Particularly useful in cases where you are dealing with imbalanced datasets.\n",
    "\n",
    "### Example Usage\n",
    "```python\n",
    "from sklearn.metrics import classification_report\n",
    "from sklearn.ensemble import RandomForestClassifier\n",
    "from sklearn.model_selection import train_test_split\n",
    "from sklearn.datasets import make_classification\n",
    "\n",
    "# Sample data\n",
    "X, y = make_classification(n_samples=1000, n_features=20, n_classes=3, random_state=42)\n",
    "X_train, X_test, y_train, y_test = train_test_split(X, y, test_size=0.3, random_state=42)\n",
    "\n",
    "# Train a classifier\n",
    "classifier = RandomForestClassifier()\n",
    "classifier.fit(X_train, y_train)\n",
    "\n",
    "# Predictions\n",
    "y_pred = classifier.predict(X_test)\n",
    "\n",
    "# Classification report\n",
    "print(classification_report(y_test, y_pred))\n",
    "```\n",
    "\n",
    "### Considerations\n",
    "- **Imbalanced Data**: In cases of imbalanced data, looking at precision and recall becomes more critical than just accuracy.\n",
    "- **Micro vs. Macro Averages**: For multi-class classification, understanding micro, macro, and weighted averages can provide more insight, especially in imbalanced datasets.\n"
   ]
  },
  {
   "cell_type": "code",
   "execution_count": 14,
   "id": "ee026ff3-96e1-4d6a-911d-ac8b4e80e732",
   "metadata": {},
   "outputs": [
    {
     "name": "stdout",
     "output_type": "stream",
     "text": [
      "Classification report for classifier SVC(gamma=0.001):\n",
      "              precision    recall  f1-score   support\n",
      "\n",
      "           0       1.00      0.99      0.99        88\n",
      "           1       0.99      0.97      0.98        91\n",
      "           2       0.99      0.99      0.99        86\n",
      "           3       0.98      0.87      0.92        91\n",
      "           4       0.99      0.96      0.97        92\n",
      "           5       0.95      0.97      0.96        91\n",
      "           6       0.99      0.99      0.99        91\n",
      "           7       0.96      0.99      0.97        89\n",
      "           8       0.94      1.00      0.97        88\n",
      "           9       0.93      0.98      0.95        92\n",
      "\n",
      "    accuracy                           0.97       899\n",
      "   macro avg       0.97      0.97      0.97       899\n",
      "weighted avg       0.97      0.97      0.97       899\n",
      "\n",
      "\n"
     ]
    }
   ],
   "source": [
    "print(\n",
    "    f\"Classification report for classifier {clf}:\\n\"\n",
    "    f\"{metrics.classification_report(y_test, predicted)}\\n\"\n",
    ")"
   ]
  },
  {
   "cell_type": "code",
   "execution_count": 15,
   "id": "a9713b56-57ac-4284-b27f-30a547a7ac61",
   "metadata": {},
   "outputs": [
    {
     "data": {
      "text/plain": [
       "0.9688542825361512"
      ]
     },
     "execution_count": 15,
     "metadata": {},
     "output_type": "execute_result"
    }
   ],
   "source": [
    "metrics.accuracy_score(y_test, predicted)"
   ]
  },
  {
   "cell_type": "code",
   "execution_count": 16,
   "id": "7b4298a6-1919-4973-b322-f278e6d90176",
   "metadata": {},
   "outputs": [
    {
     "name": "stdout",
     "output_type": "stream",
     "text": [
      "Confusion matrix:\n",
      "[[87  0  0  0  1  0  0  0  0  0]\n",
      " [ 0 88  1  0  0  0  0  0  1  1]\n",
      " [ 0  0 85  1  0  0  0  0  0  0]\n",
      " [ 0  0  0 79  0  3  0  4  5  0]\n",
      " [ 0  0  0  0 88  0  0  0  0  4]\n",
      " [ 0  0  0  0  0 88  1  0  0  2]\n",
      " [ 0  1  0  0  0  0 90  0  0  0]\n",
      " [ 0  0  0  0  0  1  0 88  0  0]\n",
      " [ 0  0  0  0  0  0  0  0 88  0]\n",
      " [ 0  0  0  1  0  1  0  0  0 90]]\n"
     ]
    },
    {
     "data": {
      "image/png": "[encoded data removed]",
      "text/plain": [
       "<Figure size 640x480 with 2 Axes>"
      ]
     },
     "metadata": {},
     "output_type": "display_data"
    }
   ],
   "source": [
    "disp = metrics.ConfusionMatrixDisplay.from_predictions(y_test, predicted)\n",
    "disp.figure_.suptitle(\"Confusion Matrix\")\n",
    "print(f\"Confusion matrix:\\n{disp.confusion_matrix}\")\n",
    "\n",
    "plt.show()"
   ]
  },
  {
   "cell_type": "markdown",
   "id": "59f2ba9c-32ca-4ee1-9270-fd1c12fa0826",
   "metadata": {},
   "source": [
    "# Monte-Carlo Cross-Validation\n",
    "\n",
    "Monte Carlo validation, also known as Monte Carlo cross-validation or simply Monte Carlo simulation in the context of model validation, is a technique used in machine learning and statistics to estimate the performance of a model. It involves running simulations repeatedly to generate random samples and compute the aggregate performance of the model across these simulations. \n",
    "\n",
    "### Overview of Monte Carlo Validation\n",
    "1. **Basic Concept**:\n",
    "   - Monte Carlo validation is based on the principle of repeated random sampling to obtain a distribution of an unknown probabilistic entity.\n",
    "   - In model validation, it involves repeatedly selecting random subsets of the data (both training and validation sets) and evaluating the model's performance over these subsets.\n",
    "\n",
    "2. **Process**:\n",
    "   - A dataset is split into training and testing sets multiple times, randomly each time. The model is trained and evaluated on each split.\n",
    "   - This process is repeated a large number of times, and the results are averaged to give an overall performance measure.\n",
    "\n",
    "### Key Characteristics\n",
    "1. **Random Sampling**:\n",
    "   - Each iteration involves randomly selecting a subset of data points for training and a subset for validation/testing.\n",
    "   - The selection is typically done with replacement, meaning the same data point can appear in multiple samples.\n",
    "\n",
    "2. **Performance Metrics**:\n",
    "   - After each iteration, performance metrics (like accuracy, precision, recall, F1-score, etc.) are calculated.\n",
    "   - These metrics are collected across all iterations to form a distribution.\n",
    "\n",
    "3. **Aggregation of Results**:\n",
    "   - The final model performance is typically the mean of the performance metrics across all iterations, though other statistics like median or mode can also be used.\n",
    "   - The variability or standard deviation of the performance metrics can also provide insights into the model's stability.\n",
    "\n",
    "### Advantages\n",
    "- **Reduces Bias and Variance**: Helps in understanding the variability and stability of the model.\n",
    "- **Flexibility**: Can be used for various types of models and metrics.\n",
    "- **Effectiveness in Small Datasets**: Particularly useful when the dataset is small, as it allows for more exhaustive exploitation of the available data.\n",
    "\n",
    "### Considerations\n",
    "- **Computational Cost**: Can be computationally expensive due to the large number of repetitions.\n",
    "- **Randomness**: The results can be influenced by the randomness of the sampling process.\n",
    "- **Choice of Parameters**: The number of iterations and the size of the subsets are important parameters that can affect the results.\n"
   ]
  },
  {
   "cell_type": "code",
   "execution_count": 17,
   "id": "ba77c2c7-d01b-4e8a-a25b-a68afde01a21",
   "metadata": {},
   "outputs": [],
   "source": [
    "accuracy_list = []\n",
    "\n",
    "# Create a classifier: a support vector classifier\n",
    "\n",
    "\n",
    "# Split data into 50% train and 50% test subsets\n",
    "# This is an example of the hold-out approach for\n",
    "# model validation.\n",
    "for i in range(500):\n",
    "    \n",
    "    clf = svm.SVC(gamma=0.001)\n",
    "    \n",
    "    X_train, X_test, y_train, y_test = train_test_split(\n",
    "        data, digits.target, test_size=0.2, shuffle=True, random_state=i\n",
    "    )\n",
    "    \n",
    "\n",
    "    # Learn the digits on the train subset\n",
    "    clf.fit(X_train, y_train)\n",
    "    \n",
    "    predicted = clf.predict(X_test)\n",
    "    \n",
    "    accuracy_list.append(metrics.accuracy_score(y_test, predicted))\n",
    "\n"
   ]
  },
  {
   "cell_type": "code",
   "execution_count": 19,
   "id": "d5cc1e4b-ba66-4b87-82e0-3b3c29412162",
   "metadata": {},
   "outputs": [
    {
     "data": {
      "image/png": "[encoded data removed]",
      "text/plain": [
       "<Figure size 1200x800 with 1 Axes>"
      ]
     },
     "metadata": {},
     "output_type": "display_data"
    }
   ],
   "source": [
    "fig = plt.figure(figsize = (12,8))\n",
    "\n",
    "plt.hist(accuracy_list, bins = 10)\n",
    "plt.xticks(fontsize = 18)\n",
    "plt.yticks(fontsize = 18)\n",
    "plt.show()"
   ]
  },
  {
   "cell_type": "code",
   "execution_count": null,
   "id": "492dc9c2-66a2-451e-b0e9-63a4492e57c3",
   "metadata": {},
   "outputs": [],
   "source": []
  }
 ],
 "metadata": {
  "kernelspec": {
   "display_name": "Python 3 (ipykernel)",
   "language": "python",
   "name": "python3"
  },
  "language_info": {
   "codemirror_mode": {
    "name": "ipython",
    "version": 3
   },
   "file_extension": ".py",
   "mimetype": "text/x-python",
   "name": "python",
   "nbconvert_exporter": "python",
   "pygments_lexer": "ipython3",
   "version": "3.11.7"
  }
 },
 "nbformat": 4,
 "nbformat_minor": 5
}
