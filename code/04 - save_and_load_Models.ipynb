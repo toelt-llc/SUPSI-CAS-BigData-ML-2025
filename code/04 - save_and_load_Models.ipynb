{
 "cells": [
  {
   "cell_type": "markdown",
   "metadata": {
    "id": "g_nWetWWd_ns"
   },
   "source": [
    "# Save and Load TensorFlow/Keras models\n",
    "\n",
    "Greatly expanded from the original documentation by Umberto Michelucci.\n",
    "\n",
    "Original code copyright 2019 The TensorFlow Authors."
   ]
  },
  {
   "cell_type": "markdown",
   "metadata": {
    "id": "pZJ3uY9O17VN"
   },
   "source": [
    "# Save and load models"
   ]
  },
  {
   "cell_type": "markdown",
   "metadata": {
    "id": "mBdde4YJeJKF"
   },
   "source": [
    "Model progress can be saved during and after training. This means a model can resume where it left off and avoid long training times. Saving also means you can share your model and others can recreate your work. When publishing research models and techniques, most machine learning practitioners share:\n",
    "\n",
    "* code to create the model, and\n",
    "* the trained weights, or parameters, for the model\n",
    "\n",
    "Sharing this data helps others understand how the model works and try it themselves with new data.\n",
    "\n",
    "Caution: TensorFlow models are code and it is important to be careful with untrusted code. See [Using TensorFlow Securely](https://github.com/tensorflow/tensorflow/blob/master/SECURITY.md) for details.\n",
    "\n",
    "### Options\n",
    "\n",
    "There are different ways to save TensorFlow models depending on the API you're using. This guide uses [tf.keras](https://www.tensorflow.org/guide/keras)—a high-level API to build and train models in TensorFlow. The new, high-level `.keras` format used in this tutorial is recommended for saving Keras objects, as it provides robust, efficient name-based saving that is often easier to debug than low-level or legacy formats. For more advanced saving or serialization workflows, especially those involving custom objects, please refer to the [Save and load Keras models guide](https://www.tensorflow.org/guide/keras/save_and_serialize). For other approaches, refer to the [Using the SavedModel format guide](../../guide/saved_model.ipynb).\n",
    "\n",
    "\n",
    "## Saving and Loading Models in Keras\n",
    "\n",
    "Certainly! In Keras, a popular deep learning framework, you can save and load neural network models using the `save` and `load_model` functions. These functionalities are essential for preserving your trained models for future use or sharing them with others.\n",
    "\n",
    "### Saving a Keras Model:\n",
    "You can save a Keras model, including its architecture, weights, optimizer state, and any additional configuration, to a file using the `save` method. Typically, you'll save your model in either the Hierarchical Data Format (HDF5) or the TensorFlow SavedModel format.\n",
    "\n",
    "Here's how to save a Keras model to an HDF5 file:\n",
    "\n",
    "```python\n",
    "from keras.models import Sequential\n",
    "from keras.layers import Dense\n",
    "\n",
    "# Create a simple Sequential model\n",
    "model = Sequential()\n",
    "model.add(Dense(64, activation='relu', input_shape=(784,)))\n",
    "model.add(Dense(10, activation='softmax'))\n",
    "\n",
    "# Compile and train the model\n",
    "\n",
    "# Save the model to an HDF5 file\n",
    "model.save('my_model.h5')\n",
    "```\n",
    "\n",
    "The `model.save('my_model.h5')` line will save the model and its weights to a file named \"my_model.h5\" in the current directory.\n",
    "\n",
    "### Loading a Saved Keras Model:\n",
    "To load a saved Keras model, you can use the `load_model` function. You need to provide the path to the saved model file, and it will return the loaded model.\n",
    "\n",
    "```python\n",
    "from keras.models import load_model\n",
    "\n",
    "# Load the saved model from the HDF5 file\n",
    "loaded_model = load_model('my_model.h5')\n",
    "\n",
    "# Now, you can use the loaded_model for inference or further training\n",
    "```\n",
    "\n",
    "Make sure to compile the loaded model with the same optimizer and loss function as before, if you plan to continue training it.\n",
    "\n",
    "Additionally, you can save and load custom objects like custom layers or loss functions by providing a `custom_objects` argument when loading the model. This allows you to recreate models that include custom components correctly.\n",
    "\n",
    "```python\n",
    "from keras.models import load_model\n",
    "\n",
    "# Load the model with custom objects\n",
    "loaded_model = load_model('my_model.h5', custom_objects={'custom_layer': custom_layer})\n",
    "```\n",
    "\n",
    "That's how you save and load Keras models, allowing you to reuse your trained models for various tasks without retraining them from scratch."
   ]
  },
  {
   "cell_type": "markdown",
   "metadata": {
    "id": "xCUREq7WXgvg"
   },
   "source": [
    "## Setup\n",
    "\n",
    "### Installs and imports"
   ]
  },
  {
   "cell_type": "markdown",
   "metadata": {
    "id": "7l0MiTOrXtNv"
   },
   "source": [
    "Install and import TensorFlow and dependencies:"
   ]
  },
  {
   "cell_type": "code",
   "execution_count": 1,
   "metadata": {
    "execution": {
     "iopub.execute_input": "2023-12-07T03:14:01.109026Z",
     "iopub.status.busy": "2023-12-07T03:14:01.108797Z",
     "iopub.status.idle": "2023-12-07T03:14:02.942634Z",
     "shell.execute_reply": "2023-12-07T03:14:02.941792Z"
    },
    "id": "RzIOVSdnMYyO"
   },
   "outputs": [
    {
     "name": "stdout",
     "output_type": "stream",
     "text": [
      "Requirement already satisfied: pyyaml in /Users/umberto/miniforge3/envs/tf-jan24/lib/python3.11/site-packages (6.0.1)\n",
      "Requirement already satisfied: h5py in /Users/umberto/miniforge3/envs/tf-jan24/lib/python3.11/site-packages (3.10.0)\n",
      "Requirement already satisfied: numpy>=1.17.3 in /Users/umberto/miniforge3/envs/tf-jan24/lib/python3.11/site-packages (from h5py) (1.26.3)\n"
     ]
    }
   ],
   "source": [
    "!pip install pyyaml h5py  # Required to save models in HDF5 format"
   ]
  },
  {
   "cell_type": "code",
   "execution_count": 2,
   "metadata": {
    "execution": {
     "iopub.execute_input": "2023-12-07T03:14:02.946862Z",
     "iopub.status.busy": "2023-12-07T03:14:02.946610Z",
     "iopub.status.idle": "2023-12-07T03:14:05.329222Z",
     "shell.execute_reply": "2023-12-07T03:14:05.328466Z"
    },
    "id": "7Nm7Tyb-gRt-"
   },
   "outputs": [
    {
     "name": "stdout",
     "output_type": "stream",
     "text": [
      "2.15.0\n"
     ]
    }
   ],
   "source": [
    "import os\n",
    "\n",
    "import tensorflow as tf\n",
    "from tensorflow import keras\n",
    "\n",
    "print(tf.version.VERSION)"
   ]
  },
  {
   "cell_type": "markdown",
   "metadata": {
    "id": "SbGsznErXWt6"
   },
   "source": [
    "### The MNIST dataset\n",
    "\n",
    "\n",
    "The MNIST dataset is a widely used benchmark dataset in the field of machine learning and computer vision. It stands for \"Modified National Institute of Standards and Technology\" and is a collection of handwritten digits. Here's a brief description of the MNIST dataset:\n",
    "\n",
    "1. **Image Format:** MNIST consists of a large set of 28x28 pixel grayscale images. Each image is a black-and-white representation of a handwritten digit (0 through 9).\n",
    "\n",
    "2. **Dataset Size:** The MNIST dataset contains a total of 70,000 images. This dataset is typically divided into two main subsets: a training set with 60,000 images and a testing set with 10,000 images.\n",
    "\n",
    "3. **Labeling:** Each image in the dataset is associated with a corresponding label, indicating the digit it represents. The labels range from 0 to 9, matching the handwritten digits in the images.\n",
    "\n",
    "4. **Usage:** MNIST is often used for various machine learning tasks, including digit recognition, image classification, and deep learning model training. It serves as a benchmark for evaluating the performance of different machine learning algorithms and neural networks.\n",
    "\n",
    "5. **Popularity:** Due to its simplicity and standardized format, MNIST has been widely used as a starting point for researchers and developers to experiment with and validate new machine learning techniques. It has played a crucial role in advancing the field of deep learning.\n",
    "\n",
    "6. **Challenges:** While MNIST is relatively straightforward, it's still a challenging dataset for tasks like digit recognition because of variations in writing styles and the presence of noise in the images.\n",
    "\n",
    "7. **Availability:** The MNIST dataset is readily available and can be accessed through various machine learning libraries, including TensorFlow and PyTorch. Many tutorials and educational resources use MNIST as an introductory dataset for teaching and learning machine learning concepts.\n",
    "\n",
    "\n",
    "To demonstrate how to save and load weights, you'll use the [MNIST dataset](http://yann.lecun.com/exdb/mnist/). To speed up these runs, use the first 1000 examples:"
   ]
  },
  {
   "cell_type": "code",
   "execution_count": 3,
   "metadata": {
    "execution": {
     "iopub.execute_input": "2023-12-07T03:14:05.332732Z",
     "iopub.status.busy": "2023-12-07T03:14:05.332331Z",
     "iopub.status.idle": "2023-12-07T03:14:05.623665Z",
     "shell.execute_reply": "2023-12-07T03:14:05.622841Z"
    },
    "id": "9rGfFwE9XVwz"
   },
   "outputs": [],
   "source": [
    "(train_images, train_labels), (test_images, test_labels) = tf.keras.datasets.mnist.load_data()\n",
    "\n",
    "train_labels = train_labels[:1000]\n",
    "test_labels = test_labels[:1000]\n",
    "\n",
    "train_images = train_images[:1000].reshape(-1, 28 * 28) / 255.0\n",
    "test_images = test_images[:1000].reshape(-1, 28 * 28) / 255.0"
   ]
  },
  {
   "cell_type": "markdown",
   "metadata": {
    "id": "anG3iVoXyZGI"
   },
   "source": [
    "### Define a model"
   ]
  },
  {
   "cell_type": "markdown",
   "metadata": {
    "id": "wynsOBfby0Pa"
   },
   "source": [
    "Start by building a simple sequential model:"
   ]
  },
  {
   "cell_type": "code",
   "execution_count": 4,
   "metadata": {
    "execution": {
     "iopub.execute_input": "2023-12-07T03:14:05.628009Z",
     "iopub.status.busy": "2023-12-07T03:14:05.627465Z",
     "iopub.status.idle": "2023-12-07T03:14:07.986537Z",
     "shell.execute_reply": "2023-12-07T03:14:07.985518Z"
    },
    "id": "0HZbJIjxyX1S"
   },
   "outputs": [
    {
     "name": "stdout",
     "output_type": "stream",
     "text": [
      "Model: \"sequential\"\n",
      "_________________________________________________________________\n",
      " Layer (type)                Output Shape              Param #   \n",
      "=================================================================\n",
      " dense (Dense)               (None, 512)               401920    \n",
      "                                                                 \n",
      " dropout (Dropout)           (None, 512)               0         \n",
      "                                                                 \n",
      " dense_1 (Dense)             (None, 10)                5130      \n",
      "                                                                 \n",
      "=================================================================\n",
      "Total params: 407050 (1.55 MB)\n",
      "Trainable params: 407050 (1.55 MB)\n",
      "Non-trainable params: 0 (0.00 Byte)\n",
      "_________________________________________________________________\n"
     ]
    }
   ],
   "source": [
    "# Define a simple sequential model\n",
    "def create_model():\n",
    "  model = tf.keras.Sequential([\n",
    "    keras.layers.Dense(512, activation='relu', input_shape=(784,)),\n",
    "    keras.layers.Dropout(0.2),\n",
    "    keras.layers.Dense(10)\n",
    "  ])\n",
    "\n",
    "  model.compile(optimizer='adam',\n",
    "                loss=tf.keras.losses.SparseCategoricalCrossentropy(from_logits=True),\n",
    "                metrics=[tf.keras.metrics.SparseCategoricalAccuracy()])\n",
    "\n",
    "  return model\n",
    "\n",
    "# Create a basic model instance\n",
    "model = create_model()\n",
    "\n",
    "# Display the model's architecture\n",
    "model.summary()"
   ]
  },
  {
   "cell_type": "markdown",
   "metadata": {
    "id": "soDE0W_KH8rG"
   },
   "source": [
    "## Save checkpoints during training"
   ]
  },
  {
   "cell_type": "markdown",
   "metadata": {},
   "source": [
    "## ```callbacks``` in Keras\n",
    "\n",
    "In Keras, callbacks are objects that allow you to customize and extend the behavior of your neural network model during training. Callbacks are called at different points during the training process, such as at the end of each epoch or after a batch of data is processed. They provide a way to monitor the training, make decisions based on training metrics, and even perform actions like saving the model or stopping training early.\n",
    "\n",
    "Here are some common use cases and functionalities of callbacks in Keras:\n",
    "\n",
    "1. **Model Checkpointing:** You can use callbacks to save the model's weights and architecture at specific intervals during training. This is useful to ensure that you can restore the best model if training is interrupted or to save multiple checkpoints for later comparison.\n",
    "\n",
    "2. **Early Stopping:** Callbacks can monitor a specified metric (e.g., validation loss or accuracy) and stop training early if the metric doesn't improve or starts deteriorating. This prevents overfitting and saves training time.\n",
    "\n",
    "3. **Learning Rate Scheduling:** Adjusting the learning rate during training can be crucial for better convergence. Callbacks like LearningRateScheduler allow you to change the learning rate according to a predefined schedule.\n",
    "\n",
    "4. **Custom Logging:** You can create custom callbacks to log training metrics, custom loss functions, or any other information you want to track during training. This is helpful for creating detailed training logs or visualizations.\n",
    "\n",
    "5. **TensorBoard Integration:** Keras provides a callback, `TensorBoard`, for integrating with TensorFlow's TensorBoard tool. TensorBoard allows you to visualize metrics, model architecture, and more during training.\n",
    "\n",
    "6. **Data Augmentation:** Callbacks can apply data augmentation techniques during training to artificially increase the diversity of training data and improve model generalization.\n",
    "\n",
    "7. **Custom Actions:** You can implement custom actions to be taken during training, such as sending notifications, saving intermediate results, or modifying the training process based on specific conditions.\n",
    "\n",
    "Here's a basic example of using some common callbacks in Keras:\n",
    "\n",
    "```python\n",
    "from keras.callbacks import ModelCheckpoint, EarlyStopping, TensorBoard\n",
    "\n",
    "# Define callbacks\n",
    "model_checkpoint = ModelCheckpoint('best_model.h5', save_best_only=True)\n",
    "early_stopping = EarlyStopping(monitor='val_loss', patience=5)\n",
    "tensorboard = TensorBoard(log_dir='logs')\n",
    "\n",
    "# Train the model with callbacks\n",
    "history = model.fit(\n",
    "    x_train, y_train,\n",
    "    epochs=50,\n",
    "    batch_size=32,\n",
    "    validation_split=0.2,\n",
    "    callbacks=[model_checkpoint, early_stopping, tensorboard]\n",
    ")\n",
    "```\n",
    "\n",
    "In this example, we use three common callbacks: `ModelCheckpoint` to save the best model, `EarlyStopping` to stop training if validation loss stops improving, and `TensorBoard` to log training progress for visualization.\n"
   ]
  },
  {
   "cell_type": "markdown",
   "metadata": {
    "id": "mRyd5qQQIXZm"
   },
   "source": [
    "## Checkpoint callback\n",
    "\n",
    "You can use a trained model without having to retrain it, or pick-up training where you left off in case the training process was interrupted. The `tf.keras.callbacks.ModelCheckpoint` callback allows you to continually save the model both *during* and at *the end* of training.\n",
    "\n",
    "### Checkpoint callback usage\n",
    "\n",
    "Create a `tf.keras.callbacks.ModelCheckpoint` callback that saves weights only during training:"
   ]
  },
  {
   "cell_type": "code",
   "execution_count": 5,
   "metadata": {
    "execution": {
     "iopub.execute_input": "2023-12-07T03:14:07.990888Z",
     "iopub.status.busy": "2023-12-07T03:14:07.990080Z",
     "iopub.status.idle": "2023-12-07T03:14:12.124526Z",
     "shell.execute_reply": "2023-12-07T03:14:12.123768Z"
    },
    "id": "IFPuhwntH8VH"
   },
   "outputs": [
    {
     "name": "stdout",
     "output_type": "stream",
     "text": [
      "Epoch 1/10\n",
      " 1/32 [..............................] - ETA: 4s - loss: 2.1726 - sparse_categorical_accuracy: 0.1875\n",
      "Epoch 1: saving model to training_1/cp.ckpt\n",
      "32/32 [==============================] - 0s 5ms/step - loss: 1.1159 - sparse_categorical_accuracy: 0.6960 - val_loss: 0.7410 - val_sparse_categorical_accuracy: 0.7550\n",
      "Epoch 2/10\n",
      " 1/32 [..............................] - ETA: 0s - loss: 0.4825 - sparse_categorical_accuracy: 0.8438\n",
      "Epoch 2: saving model to training_1/cp.ckpt\n",
      "32/32 [==============================] - 0s 3ms/step - loss: 0.4224 - sparse_categorical_accuracy: 0.8710 - val_loss: 0.5102 - val_sparse_categorical_accuracy: 0.8450\n",
      "Epoch 3/10\n",
      " 1/32 [..............................] - ETA: 0s - loss: 0.1636 - sparse_categorical_accuracy: 1.0000\n",
      "Epoch 3: saving model to training_1/cp.ckpt\n",
      "32/32 [==============================] - 0s 3ms/step - loss: 0.2780 - sparse_categorical_accuracy: 0.9270 - val_loss: 0.4645 - val_sparse_categorical_accuracy: 0.8620\n",
      "Epoch 4/10\n",
      "30/32 [===========================>..] - ETA: 0s - loss: 0.2076 - sparse_categorical_accuracy: 0.9531\n",
      "Epoch 4: saving model to training_1/cp.ckpt\n",
      "32/32 [==============================] - 0s 3ms/step - loss: 0.2068 - sparse_categorical_accuracy: 0.9520 - val_loss: 0.4439 - val_sparse_categorical_accuracy: 0.8620\n",
      "Epoch 5/10\n",
      " 1/32 [..............................] - ETA: 0s - loss: 0.1140 - sparse_categorical_accuracy: 1.0000\n",
      "Epoch 5: saving model to training_1/cp.ckpt\n",
      "32/32 [==============================] - 0s 3ms/step - loss: 0.1534 - sparse_categorical_accuracy: 0.9720 - val_loss: 0.4527 - val_sparse_categorical_accuracy: 0.8600\n",
      "Epoch 6/10\n",
      " 1/32 [..............................] - ETA: 0s - loss: 0.0785 - sparse_categorical_accuracy: 1.0000\n",
      "Epoch 6: saving model to training_1/cp.ckpt\n",
      "32/32 [==============================] - 0s 3ms/step - loss: 0.1160 - sparse_categorical_accuracy: 0.9750 - val_loss: 0.4105 - val_sparse_categorical_accuracy: 0.8670\n",
      "Epoch 7/10\n",
      " 1/32 [..............................] - ETA: 0s - loss: 0.0857 - sparse_categorical_accuracy: 1.0000\n",
      "Epoch 7: saving model to training_1/cp.ckpt\n",
      "32/32 [==============================] - 0s 3ms/step - loss: 0.0886 - sparse_categorical_accuracy: 0.9870 - val_loss: 0.4213 - val_sparse_categorical_accuracy: 0.8600\n",
      "Epoch 8/10\n",
      " 1/32 [..............................] - ETA: 0s - loss: 0.0656 - sparse_categorical_accuracy: 1.0000\n",
      "Epoch 8: saving model to training_1/cp.ckpt\n",
      "32/32 [==============================] - 0s 3ms/step - loss: 0.0699 - sparse_categorical_accuracy: 0.9920 - val_loss: 0.4224 - val_sparse_categorical_accuracy: 0.8650\n",
      "Epoch 9/10\n",
      " 1/32 [..............................] - ETA: 0s - loss: 0.0436 - sparse_categorical_accuracy: 1.0000\n",
      "Epoch 9: saving model to training_1/cp.ckpt\n",
      "32/32 [==============================] - 0s 3ms/step - loss: 0.0498 - sparse_categorical_accuracy: 0.9980 - val_loss: 0.4177 - val_sparse_categorical_accuracy: 0.8640\n",
      "Epoch 10/10\n",
      " 1/32 [..............................] - ETA: 0s - loss: 0.0958 - sparse_categorical_accuracy: 0.9688\n",
      "Epoch 10: saving model to training_1/cp.ckpt\n",
      "32/32 [==============================] - 0s 3ms/step - loss: 0.0388 - sparse_categorical_accuracy: 0.9980 - val_loss: 0.4316 - val_sparse_categorical_accuracy: 0.8600\n"
     ]
    },
    {
     "data": {
      "text/plain": [
       "<keras.src.callbacks.History at 0x28163bdd0>"
      ]
     },
     "execution_count": 5,
     "metadata": {},
     "output_type": "execute_result"
    }
   ],
   "source": [
    "checkpoint_path = \"training_1/cp.ckpt\"\n",
    "checkpoint_dir = os.path.dirname(checkpoint_path)\n",
    "\n",
    "# Create a callback that saves the model's weights\n",
    "cp_callback = tf.keras.callbacks.ModelCheckpoint(filepath=checkpoint_path,\n",
    "                                                 save_weights_only=True,\n",
    "                                                 verbose=1)\n",
    "\n",
    "# Train the model with the new callback\n",
    "model.fit(train_images, \n",
    "          train_labels,  \n",
    "          epochs=10,\n",
    "          validation_data=(test_images, test_labels),\n",
    "          callbacks=[cp_callback])  # Pass callback to training\n",
    "\n",
    "# This may generate warnings related to saving the state of the optimizer.\n",
    "# These warnings (and similar warnings throughout this notebook)\n",
    "# are in place to discourage outdated usage, and can be ignored."
   ]
  },
  {
   "cell_type": "markdown",
   "metadata": {
    "id": "rlM-sgyJO084"
   },
   "source": [
    "This creates a single collection of TensorFlow checkpoint files that are updated at the end of each epoch:"
   ]
  },
  {
   "cell_type": "code",
   "execution_count": 6,
   "metadata": {
    "execution": {
     "iopub.execute_input": "2023-12-07T03:14:12.128273Z",
     "iopub.status.busy": "2023-12-07T03:14:12.127718Z",
     "iopub.status.idle": "2023-12-07T03:14:12.132689Z",
     "shell.execute_reply": "2023-12-07T03:14:12.132036Z"
    },
    "id": "gXG5FVKFOVQ3"
   },
   "outputs": [
    {
     "data": {
      "text/plain": [
       "['cp.ckpt.data-00000-of-00001', 'checkpoint', 'cp.ckpt.index']"
      ]
     },
     "execution_count": 6,
     "metadata": {},
     "output_type": "execute_result"
    }
   ],
   "source": [
    "os.listdir(checkpoint_dir)"
   ]
  },
  {
   "cell_type": "markdown",
   "metadata": {
    "id": "wlRN_f56Pqa9"
   },
   "source": [
    "As long as two models share the same architecture you can share weights between them. So, when restoring a model from weights-only, create a model with the same architecture as the original model and then set its weights. \n",
    "\n",
    "Now rebuild a fresh, untrained model and evaluate it on the test set. An untrained model will perform at chance levels (~10% accuracy):"
   ]
  },
  {
   "cell_type": "code",
   "execution_count": 7,
   "metadata": {
    "execution": {
     "iopub.execute_input": "2023-12-07T03:14:12.136194Z",
     "iopub.status.busy": "2023-12-07T03:14:12.135695Z",
     "iopub.status.idle": "2023-12-07T03:14:12.405437Z",
     "shell.execute_reply": "2023-12-07T03:14:12.404688Z"
    },
    "id": "Fp5gbuiaPqCT"
   },
   "outputs": [
    {
     "name": "stdout",
     "output_type": "stream",
     "text": [
      "32/32 - 0s - loss: 2.3403 - sparse_categorical_accuracy: 0.0980 - 76ms/epoch - 2ms/step\n",
      "Untrained model, accuracy:  9.80%\n"
     ]
    }
   ],
   "source": [
    "# Create a basic model instance\n",
    "model = create_model()\n",
    "\n",
    "# Evaluate the model\n",
    "loss, acc = model.evaluate(test_images, test_labels, verbose=2)\n",
    "print(\"Untrained model, accuracy: {:5.2f}%\".format(100 * acc))"
   ]
  },
  {
   "cell_type": "markdown",
   "metadata": {
    "id": "1DTKpZssRSo3"
   },
   "source": [
    "Then load the weights from the checkpoint and re-evaluate:"
   ]
  },
  {
   "cell_type": "code",
   "execution_count": 8,
   "metadata": {
    "execution": {
     "iopub.execute_input": "2023-12-07T03:14:12.409294Z",
     "iopub.status.busy": "2023-12-07T03:14:12.408648Z",
     "iopub.status.idle": "2023-12-07T03:14:12.564596Z",
     "shell.execute_reply": "2023-12-07T03:14:12.563849Z"
    },
    "id": "2IZxbwiRRSD2"
   },
   "outputs": [
    {
     "name": "stdout",
     "output_type": "stream",
     "text": [
      "32/32 - 0s - loss: 0.4316 - sparse_categorical_accuracy: 0.8600 - 43ms/epoch - 1ms/step\n",
      "Restored model, accuracy: 86.00%\n"
     ]
    }
   ],
   "source": [
    "# Loads the weights\n",
    "model.load_weights(checkpoint_path)\n",
    "\n",
    "# Re-evaluate the model\n",
    "loss, acc = model.evaluate(test_images, test_labels, verbose=2)\n",
    "print(\"Restored model, accuracy: {:5.2f}%\".format(100 * acc))"
   ]
  },
  {
   "cell_type": "markdown",
   "metadata": {
    "id": "bpAbKkAyVPV8"
   },
   "source": [
    "### Checkpoint callback options\n",
    "\n",
    "The callback provides several options to provide unique names for checkpoints and adjust the checkpointing frequency.\n",
    "\n",
    "Train a new model, and save uniquely named checkpoints once every five epochs:"
   ]
  },
  {
   "cell_type": "code",
   "execution_count": 9,
   "metadata": {
    "execution": {
     "iopub.execute_input": "2023-12-07T03:14:12.568212Z",
     "iopub.status.busy": "2023-12-07T03:14:12.567719Z",
     "iopub.status.idle": "2023-12-07T03:14:21.837960Z",
     "shell.execute_reply": "2023-12-07T03:14:21.837256Z"
    },
    "id": "mQF_dlgIVOvq"
   },
   "outputs": [
    {
     "name": "stdout",
     "output_type": "stream",
     "text": [
      "\n",
      "Epoch 5: saving model to training_2/cp-0005.ckpt\n",
      "\n",
      "Epoch 10: saving model to training_2/cp-0010.ckpt\n",
      "\n",
      "Epoch 15: saving model to training_2/cp-0015.ckpt\n",
      "\n",
      "Epoch 20: saving model to training_2/cp-0020.ckpt\n",
      "\n",
      "Epoch 25: saving model to training_2/cp-0025.ckpt\n",
      "\n",
      "Epoch 30: saving model to training_2/cp-0030.ckpt\n",
      "\n",
      "Epoch 35: saving model to training_2/cp-0035.ckpt\n",
      "\n",
      "Epoch 40: saving model to training_2/cp-0040.ckpt\n",
      "\n",
      "Epoch 45: saving model to training_2/cp-0045.ckpt\n",
      "\n",
      "Epoch 50: saving model to training_2/cp-0050.ckpt\n"
     ]
    },
    {
     "data": {
      "text/plain": [
       "<keras.src.callbacks.History at 0x2986d3b50>"
      ]
     },
     "execution_count": 9,
     "metadata": {},
     "output_type": "execute_result"
    }
   ],
   "source": [
    "# Include the epoch in the file name (uses `str.format`)\n",
    "checkpoint_path = \"training_2/cp-{epoch:04d}.ckpt\"\n",
    "checkpoint_dir = os.path.dirname(checkpoint_path)\n",
    "\n",
    "batch_size = 32\n",
    "\n",
    "# Calculate the number of batches per epoch\n",
    "import math\n",
    "n_batches = len(train_images) / batch_size\n",
    "n_batches = math.ceil(n_batches)    # round up the number of batches to the nearest whole integer\n",
    "\n",
    "# Create a callback that saves the model's weights every 5 epochs\n",
    "cp_callback = tf.keras.callbacks.ModelCheckpoint(\n",
    "    filepath=checkpoint_path, \n",
    "    verbose=1, \n",
    "    save_weights_only=True,\n",
    "    save_freq=5*n_batches)\n",
    "\n",
    "# Create a new model instance\n",
    "model = create_model()\n",
    "\n",
    "# Save the weights using the `checkpoint_path` format\n",
    "model.save_weights(checkpoint_path.format(epoch=0))\n",
    "\n",
    "# Train the model with the new callback\n",
    "model.fit(train_images, \n",
    "          train_labels,\n",
    "          epochs=50, \n",
    "          batch_size=batch_size, \n",
    "          callbacks=[cp_callback],\n",
    "          validation_data=(test_images, test_labels),\n",
    "          verbose=0)"
   ]
  },
  {
   "cell_type": "markdown",
   "metadata": {
    "id": "1zFrKTjjavWI"
   },
   "source": [
    "Now, review the resulting checkpoints and choose the latest one:"
   ]
  },
  {
   "cell_type": "code",
   "execution_count": 10,
   "metadata": {
    "execution": {
     "iopub.execute_input": "2023-12-07T03:14:21.841986Z",
     "iopub.status.busy": "2023-12-07T03:14:21.841382Z",
     "iopub.status.idle": "2023-12-07T03:14:21.846306Z",
     "shell.execute_reply": "2023-12-07T03:14:21.845730Z"
    },
    "id": "p64q3-V4sXt0"
   },
   "outputs": [
    {
     "data": {
      "text/plain": [
       "['cp-0005.ckpt.data-00000-of-00001',\n",
       " 'cp-0050.ckpt.index',\n",
       " 'cp-0005.ckpt.index',\n",
       " 'cp-0050.ckpt.data-00000-of-00001',\n",
       " 'checkpoint',\n",
       " 'cp-0020.ckpt.data-00000-of-00001',\n",
       " 'cp-0000.ckpt.index',\n",
       " 'cp-0030.ckpt.index',\n",
       " 'cp-0025.ckpt.data-00000-of-00001',\n",
       " 'cp-0000.ckpt.data-00000-of-00001',\n",
       " 'cp-0035.ckpt.index',\n",
       " 'cp-0010.ckpt.index',\n",
       " 'cp-0045.ckpt.index',\n",
       " 'cp-0045.ckpt.data-00000-of-00001',\n",
       " 'cp-0010.ckpt.data-00000-of-00001',\n",
       " 'cp-0035.ckpt.data-00000-of-00001',\n",
       " 'cp-0015.ckpt.index',\n",
       " 'cp-0040.ckpt.index',\n",
       " 'cp-0025.ckpt.index',\n",
       " 'cp-0030.ckpt.data-00000-of-00001',\n",
       " 'cp-0040.ckpt.data-00000-of-00001',\n",
       " 'cp-0015.ckpt.data-00000-of-00001',\n",
       " 'cp-0020.ckpt.index']"
      ]
     },
     "execution_count": 10,
     "metadata": {},
     "output_type": "execute_result"
    }
   ],
   "source": [
    "os.listdir(checkpoint_dir)"
   ]
  },
  {
   "cell_type": "code",
   "execution_count": 11,
   "metadata": {
    "execution": {
     "iopub.execute_input": "2023-12-07T03:14:21.849380Z",
     "iopub.status.busy": "2023-12-07T03:14:21.849149Z",
     "iopub.status.idle": "2023-12-07T03:14:21.853996Z",
     "shell.execute_reply": "2023-12-07T03:14:21.853447Z"
    },
    "id": "1AN_fnuyR41H"
   },
   "outputs": [
    {
     "data": {
      "text/plain": [
       "'training_2/cp-0050.ckpt'"
      ]
     },
     "execution_count": 11,
     "metadata": {},
     "output_type": "execute_result"
    }
   ],
   "source": [
    "latest = tf.train.latest_checkpoint(checkpoint_dir)\n",
    "latest"
   ]
  },
  {
   "cell_type": "markdown",
   "metadata": {
    "id": "Zk2ciGbKg561"
   },
   "source": [
    "Note: The default TensorFlow format only saves the 5 most recent checkpoints.\n",
    "\n",
    "To test, reset the model, and load the latest checkpoint:"
   ]
  },
  {
   "cell_type": "code",
   "execution_count": 12,
   "metadata": {
    "execution": {
     "iopub.execute_input": "2023-12-07T03:14:21.857538Z",
     "iopub.status.busy": "2023-12-07T03:14:21.857043Z",
     "iopub.status.idle": "2023-12-07T03:14:22.132806Z",
     "shell.execute_reply": "2023-12-07T03:14:22.132033Z"
    },
    "id": "3M04jyK-H3QK"
   },
   "outputs": [
    {
     "name": "stdout",
     "output_type": "stream",
     "text": [
      "32/32 - 0s - loss: 0.4983 - sparse_categorical_accuracy: 0.8640 - 104ms/epoch - 3ms/step\n",
      "Restored model, accuracy: 86.40%\n"
     ]
    }
   ],
   "source": [
    "# Create a new model instance\n",
    "model = create_model()\n",
    "\n",
    "# Load the previously saved weights\n",
    "model.load_weights(latest)\n",
    "\n",
    "# Re-evaluate the model\n",
    "loss, acc = model.evaluate(test_images, test_labels, verbose=2)\n",
    "print(\"Restored model, accuracy: {:5.2f}%\".format(100 * acc))"
   ]
  },
  {
   "cell_type": "markdown",
   "metadata": {
    "id": "c2OxsJOTHxia"
   },
   "source": [
    "## What are these files?"
   ]
  },
  {
   "cell_type": "markdown",
   "metadata": {
    "id": "JtdYhvWnH2ib"
   },
   "source": [
    "The above code stores the weights to a collection of [checkpoint](../../guide/checkpoint.ipynb)-formatted files that contain only the trained weights in a binary format. Checkpoints contain:\n",
    "* One or more shards that contain your model's weights.\n",
    "* An index file that indicates which weights are stored in which shard.\n",
    "\n",
    "If you are training a model on a single machine, you'll have one shard with the suffix: `.data-00000-of-00001`"
   ]
  },
  {
   "cell_type": "markdown",
   "metadata": {
    "id": "S_FA-ZvxuXQV"
   },
   "source": [
    "## Manually save weights\n",
    "\n",
    "To save weights manually, use `tf.keras.Model.save_weights`. By default, `tf.keras`—and the `Model.save_weights` method in particular—uses the TensorFlow [Checkpoint](../../guide/checkpoint.ipynb) format with a `.ckpt` extension. To save in the HDF5 format with a `.h5` extension, refer to the [Save and load models](https://www.tensorflow.org/guide/keras/save_and_serialize) guide."
   ]
  },
  {
   "cell_type": "code",
   "execution_count": 13,
   "metadata": {
    "execution": {
     "iopub.execute_input": "2023-12-07T03:14:22.136920Z",
     "iopub.status.busy": "2023-12-07T03:14:22.136416Z",
     "iopub.status.idle": "2023-12-07T03:14:22.418610Z",
     "shell.execute_reply": "2023-12-07T03:14:22.417881Z"
    },
    "id": "R7W5plyZ-u9X"
   },
   "outputs": [
    {
     "name": "stdout",
     "output_type": "stream",
     "text": [
      "WARNING:tensorflow:Detecting that an object or model or tf.train.Checkpoint is being deleted with unrestored values. See the following logs for the specific values in question. To silence these warnings, use `status.expect_partial()`. See https://www.tensorflow.org/api_docs/python/tf/train/Checkpoint#restorefor details about the status object returned by the restore function.\n",
      "WARNING:tensorflow:Value in checkpoint could not be found in the restored object: (root).optimizer.iter\n",
      "WARNING:tensorflow:Value in checkpoint could not be found in the restored object: (root).optimizer.beta_1\n",
      "WARNING:tensorflow:Value in checkpoint could not be found in the restored object: (root).optimizer.beta_2\n",
      "WARNING:tensorflow:Value in checkpoint could not be found in the restored object: (root).optimizer.decay\n",
      "WARNING:tensorflow:Value in checkpoint could not be found in the restored object: (root).optimizer.learning_rate\n",
      "32/32 - 0s - loss: 0.4983 - sparse_categorical_accuracy: 0.8640 - 71ms/epoch - 2ms/step\n",
      "Restored model, accuracy: 86.40%\n"
     ]
    }
   ],
   "source": [
    "# Save the weights\n",
    "model.save_weights('./checkpoints/my_checkpoint')\n",
    "\n",
    "# Create a new model instance\n",
    "model = create_model()\n",
    "\n",
    "# Restore the weights\n",
    "model.load_weights('./checkpoints/my_checkpoint')\n",
    "\n",
    "# Evaluate the model\n",
    "loss, acc = model.evaluate(test_images, test_labels, verbose=2)\n",
    "print(\"Restored model, accuracy: {:5.2f}%\".format(100 * acc))"
   ]
  },
  {
   "cell_type": "markdown",
   "metadata": {
    "id": "kOGlxPRBEvV1"
   },
   "source": [
    "## Save the entire model\n",
    "\n",
    "Call `tf.keras.Model.save` to save a model's architecture, weights, and training configuration in a single `model.keras` zip archive.\n",
    "\n",
    "An entire model can be saved in three different file formats (the new `.keras` format and two legacy formats: `SavedModel`, and `HDF5`). Saving a model as `path/to/model.keras` automatically saves in the latest format.\n",
    "\n",
    "**Note:** For Keras objects it's recommended to use the new high-level `.keras` format for richer, name-based saving and reloading, which is easier to debug. The low-level SavedModel format and legacy H5 format continue to be supported for existing code.\n",
    "\n",
    "You can switch to the SavedModel format by:\n",
    "\n",
    "- Passing `save_format='tf'` to `save()`\n",
    "- Passing a filename without an extension\n",
    "\n",
    "You can switch to the H5 format by:\n",
    "- Passing `save_format='h5'` to `save()`\n",
    "- Passing a filename that ends in `.h5`\n",
    "\n",
    "Saving a fully-functional model is very useful—you can load them in TensorFlow.js ([Saved Model](https://www.tensorflow.org/js/tutorials/conversion/import_saved_model), [HDF5](https://www.tensorflow.org/js/tutorials/conversion/import_keras)) and then train and run them in web browsers, or convert them to run on mobile devices using TensorFlow Lite ([Saved Model](https://www.tensorflow.org/lite/models/convert/#convert_a_savedmodel_recommended_), [HDF5](https://www.tensorflow.org/lite/models/convert/#convert_a_keras_model_))\n",
    "\n",
    "\\*Custom objects (for example, subclassed models or layers) require special attention when saving and loading. Refer to the **Saving custom objects** section below."
   ]
  },
  {
   "cell_type": "markdown",
   "metadata": {
    "id": "0fRGnlHMrkI7"
   },
   "source": [
    "### New high-level `.keras` format"
   ]
  },
  {
   "cell_type": "markdown",
   "metadata": {
    "id": "eqO8jj7GsCDn"
   },
   "source": [
    "The new Keras v3 saving format, marked by the `.keras` extension, is a more\n",
    "simple, efficient format that implements name-based saving, ensuring what you load is exactly what you saved, from Python's perspective. This makes debugging much easier, and it is the recommended format for Keras.\n",
    "\n",
    "The section below illustrates how to save and restore the model in the `.keras` format."
   ]
  },
  {
   "cell_type": "code",
   "execution_count": 14,
   "metadata": {
    "execution": {
     "iopub.execute_input": "2023-12-07T03:14:22.422568Z",
     "iopub.status.busy": "2023-12-07T03:14:22.422293Z",
     "iopub.status.idle": "2023-12-07T03:14:23.629444Z",
     "shell.execute_reply": "2023-12-07T03:14:23.628785Z"
    },
    "id": "3f55mAXwukUX"
   },
   "outputs": [
    {
     "name": "stdout",
     "output_type": "stream",
     "text": [
      "Epoch 1/5\n",
      "32/32 [==============================] - 0s 1ms/step - loss: 1.1820 - sparse_categorical_accuracy: 0.6760\n",
      "Epoch 2/5\n",
      "32/32 [==============================] - 0s 1ms/step - loss: 0.4225 - sparse_categorical_accuracy: 0.8830\n",
      "Epoch 3/5\n",
      "32/32 [==============================] - 0s 1ms/step - loss: 0.3102 - sparse_categorical_accuracy: 0.9260\n",
      "Epoch 4/5\n",
      "32/32 [==============================] - 0s 1ms/step - loss: 0.2112 - sparse_categorical_accuracy: 0.9500\n",
      "Epoch 5/5\n",
      "32/32 [==============================] - 0s 2ms/step - loss: 0.1605 - sparse_categorical_accuracy: 0.9650\n"
     ]
    }
   ],
   "source": [
    "# Create and train a new model instance.\n",
    "model = create_model()\n",
    "model.fit(train_images, train_labels, epochs=5)\n",
    "\n",
    "# Save the entire model as a `.keras` zip archive.\n",
    "model.save('my_model.keras')"
   ]
  },
  {
   "cell_type": "markdown",
   "metadata": {
    "id": "iHqwaun5g8lD"
   },
   "source": [
    "Reload a fresh Keras model from the `.keras` zip archive:"
   ]
  },
  {
   "cell_type": "code",
   "execution_count": 15,
   "metadata": {
    "execution": {
     "iopub.execute_input": "2023-12-07T03:14:23.633053Z",
     "iopub.status.busy": "2023-12-07T03:14:23.632770Z",
     "iopub.status.idle": "2023-12-07T03:14:23.778335Z",
     "shell.execute_reply": "2023-12-07T03:14:23.777671Z"
    },
    "id": "HyfUMOZwux_-"
   },
   "outputs": [
    {
     "name": "stdout",
     "output_type": "stream",
     "text": [
      "Model: \"sequential_5\"\n",
      "_________________________________________________________________\n",
      " Layer (type)                Output Shape              Param #   \n",
      "=================================================================\n",
      " dense_10 (Dense)            (None, 512)               401920    \n",
      "                                                                 \n",
      " dropout_5 (Dropout)         (None, 512)               0         \n",
      "                                                                 \n",
      " dense_11 (Dense)            (None, 10)                5130      \n",
      "                                                                 \n",
      "=================================================================\n",
      "Total params: 407050 (1.55 MB)\n",
      "Trainable params: 407050 (1.55 MB)\n",
      "Non-trainable params: 0 (0.00 Byte)\n",
      "_________________________________________________________________\n"
     ]
    }
   ],
   "source": [
    "new_model = tf.keras.models.load_model('my_model.keras')\n",
    "\n",
    "# Show the model architecture\n",
    "new_model.summary()"
   ]
  },
  {
   "cell_type": "markdown",
   "metadata": {
    "id": "9Cn3pSBqvJ5f"
   },
   "source": [
    "Try running evaluate and predict with the loaded model:"
   ]
  },
  {
   "cell_type": "code",
   "execution_count": 16,
   "metadata": {
    "execution": {
     "iopub.execute_input": "2023-12-07T03:14:23.785543Z",
     "iopub.status.busy": "2023-12-07T03:14:23.785237Z",
     "iopub.status.idle": "2023-12-07T03:14:24.229779Z",
     "shell.execute_reply": "2023-12-07T03:14:24.229053Z"
    },
    "id": "8BT4mHNIvMdW"
   },
   "outputs": [
    {
     "name": "stdout",
     "output_type": "stream",
     "text": [
      "32/32 - 0s - loss: 0.4132 - sparse_categorical_accuracy: 0.8640 - 93ms/epoch - 3ms/step\n",
      "Restored model, accuracy: 86.40%\n",
      "32/32 [==============================] - 0s 636us/step\n",
      "(1000, 10)\n"
     ]
    }
   ],
   "source": [
    "# Evaluate the restored model\n",
    "loss, acc = new_model.evaluate(test_images, test_labels, verbose=2)\n",
    "print('Restored model, accuracy: {:5.2f}%'.format(100 * acc))\n",
    "\n",
    "print(new_model.predict(test_images).shape)"
   ]
  },
  {
   "cell_type": "markdown",
   "metadata": {
    "id": "kPyhgcoVzqUB"
   },
   "source": [
    "### SavedModel format"
   ]
  },
  {
   "cell_type": "markdown",
   "metadata": {
    "id": "LtcN4VIb7JkK"
   },
   "source": [
    "The SavedModel format is another way to serialize models. Models saved in this format can be restored using `tf.keras.models.load_model` and are compatible with TensorFlow Serving. The [SavedModel guide](../../guide/saved_model.ipynb) goes into detail about how to `serve/inspect` the SavedModel. The section below illustrates the steps to save and restore the model."
   ]
  },
  {
   "cell_type": "code",
   "execution_count": 17,
   "metadata": {
    "execution": {
     "iopub.execute_input": "2023-12-07T03:14:24.233487Z",
     "iopub.status.busy": "2023-12-07T03:14:24.233203Z",
     "iopub.status.idle": "2023-12-07T03:14:26.122226Z",
     "shell.execute_reply": "2023-12-07T03:14:26.121523Z"
    },
    "id": "sI1YvCDFzpl3"
   },
   "outputs": [
    {
     "name": "stdout",
     "output_type": "stream",
     "text": [
      "Epoch 1/5\n",
      "32/32 [==============================] - 0s 1ms/step - loss: 1.1720 - sparse_categorical_accuracy: 0.6670\n",
      "Epoch 2/5\n",
      "32/32 [==============================] - 0s 1ms/step - loss: 0.4156 - sparse_categorical_accuracy: 0.8900\n",
      "Epoch 3/5\n",
      "32/32 [==============================] - 0s 1ms/step - loss: 0.2911 - sparse_categorical_accuracy: 0.9250\n",
      "Epoch 4/5\n",
      "32/32 [==============================] - 0s 1ms/step - loss: 0.2160 - sparse_categorical_accuracy: 0.9500\n",
      "Epoch 5/5\n",
      "32/32 [==============================] - 0s 2ms/step - loss: 0.1551 - sparse_categorical_accuracy: 0.9680\n",
      "INFO:tensorflow:Assets written to: saved_model/my_model/assets\n"
     ]
    },
    {
     "name": "stderr",
     "output_type": "stream",
     "text": [
      "INFO:tensorflow:Assets written to: saved_model/my_model/assets\n"
     ]
    }
   ],
   "source": [
    "# Create and train a new model instance.\n",
    "model = create_model()\n",
    "model.fit(train_images, train_labels, epochs=5)\n",
    "\n",
    "# Save the entire model as a SavedModel.\n",
    "!mkdir -p saved_model\n",
    "model.save('saved_model/my_model') "
   ]
  },
  {
   "cell_type": "markdown",
   "metadata": {
    "id": "iUvT_3qE8hV5"
   },
   "source": [
    "The SavedModel format is a directory containing a protobuf binary and a TensorFlow checkpoint. Inspect the saved model directory:"
   ]
  },
  {
   "cell_type": "code",
   "execution_count": 18,
   "metadata": {
    "execution": {
     "iopub.execute_input": "2023-12-07T03:14:26.126432Z",
     "iopub.status.busy": "2023-12-07T03:14:26.125687Z",
     "iopub.status.idle": "2023-12-07T03:14:26.436703Z",
     "shell.execute_reply": "2023-12-07T03:14:26.435759Z"
    },
    "id": "sq8fPglI1RWA"
   },
   "outputs": [
    {
     "name": "stdout",
     "output_type": "stream",
     "text": [
      "\u001b[34mmy_model\u001b[m\u001b[m\n"
     ]
    },
    {
     "name": "stdout",
     "output_type": "stream",
     "text": [
      "\u001b[34massets\u001b[m\u001b[m            keras_metadata.pb \u001b[34mvariables\u001b[m\u001b[m\n",
      "fingerprint.pb    saved_model.pb\n"
     ]
    }
   ],
   "source": [
    "# my_model directory\n",
    "!ls saved_model\n",
    "\n",
    "# Contains an assets folder, saved_model.pb, and variables folder.\n",
    "!ls saved_model/my_model"
   ]
  },
  {
   "cell_type": "markdown",
   "metadata": {
    "id": "B7qfpvpY9HCe"
   },
   "source": [
    "Reload a fresh Keras model from the saved model:"
   ]
  },
  {
   "cell_type": "code",
   "execution_count": 19,
   "metadata": {
    "execution": {
     "iopub.execute_input": "2023-12-07T03:14:26.440910Z",
     "iopub.status.busy": "2023-12-07T03:14:26.440356Z",
     "iopub.status.idle": "2023-12-07T03:14:26.869266Z",
     "shell.execute_reply": "2023-12-07T03:14:26.868639Z"
    },
    "id": "0YofwHdN0pxa"
   },
   "outputs": [
    {
     "name": "stdout",
     "output_type": "stream",
     "text": [
      "Model: \"sequential_6\"\n",
      "_________________________________________________________________\n",
      " Layer (type)                Output Shape              Param #   \n",
      "=================================================================\n",
      " dense_12 (Dense)            (None, 512)               401920    \n",
      "                                                                 \n",
      " dropout_6 (Dropout)         (None, 512)               0         \n",
      "                                                                 \n",
      " dense_13 (Dense)            (None, 10)                5130      \n",
      "                                                                 \n",
      "=================================================================\n",
      "Total params: 407050 (1.55 MB)\n",
      "Trainable params: 407050 (1.55 MB)\n",
      "Non-trainable params: 0 (0.00 Byte)\n",
      "_________________________________________________________________\n"
     ]
    }
   ],
   "source": [
    "new_model = tf.keras.models.load_model('saved_model/my_model')\n",
    "\n",
    "# Check its architecture\n",
    "new_model.summary()"
   ]
  },
  {
   "cell_type": "markdown",
   "metadata": {
    "id": "uWwgNaz19TH2"
   },
   "source": [
    "The restored model is compiled with the same arguments as the original model. Try running evaluate and predict with the loaded model:"
   ]
  },
  {
   "cell_type": "code",
   "execution_count": 20,
   "metadata": {
    "execution": {
     "iopub.execute_input": "2023-12-07T03:14:26.875553Z",
     "iopub.status.busy": "2023-12-07T03:14:26.874962Z",
     "iopub.status.idle": "2023-12-07T03:14:27.291746Z",
     "shell.execute_reply": "2023-12-07T03:14:27.290826Z"
    },
    "id": "Yh5Mu0yOgE5J"
   },
   "outputs": [
    {
     "name": "stdout",
     "output_type": "stream",
     "text": [
      "32/32 - 0s - loss: 0.4641 - sparse_categorical_accuracy: 0.8520 - 75ms/epoch - 2ms/step\n",
      "Restored model, accuracy: 85.20%\n",
      "32/32 [==============================] - 0s 604us/step\n",
      "(1000, 10)\n"
     ]
    }
   ],
   "source": [
    "# Evaluate the restored model\n",
    "loss, acc = new_model.evaluate(test_images, test_labels, verbose=2)\n",
    "print('Restored model, accuracy: {:5.2f}%'.format(100 * acc))\n",
    "\n",
    "print(new_model.predict(test_images).shape)"
   ]
  },
  {
   "cell_type": "markdown",
   "metadata": {
    "id": "SkGwf-50zLNn"
   },
   "source": [
    "### HDF5 format\n",
    "\n",
    "Keras provides a basic legacy high-level save format using the [HDF5](https://en.wikipedia.org/wiki/Hierarchical_Data_Format) standard. "
   ]
  },
  {
   "cell_type": "code",
   "execution_count": 21,
   "metadata": {
    "execution": {
     "iopub.execute_input": "2023-12-07T03:14:27.295546Z",
     "iopub.status.busy": "2023-12-07T03:14:27.294805Z",
     "iopub.status.idle": "2023-12-07T03:14:28.519879Z",
     "shell.execute_reply": "2023-12-07T03:14:28.519060Z"
    },
    "id": "m2dkmJVCGUia"
   },
   "outputs": [
    {
     "name": "stdout",
     "output_type": "stream",
     "text": [
      "Epoch 1/5\n",
      "32/32 [==============================] - 0s 1ms/step - loss: 1.1485 - sparse_categorical_accuracy: 0.6650\n",
      "Epoch 2/5\n",
      "32/32 [==============================] - 0s 1ms/step - loss: 0.4393 - sparse_categorical_accuracy: 0.8740\n",
      "Epoch 3/5\n",
      "32/32 [==============================] - 0s 1ms/step - loss: 0.2951 - sparse_categorical_accuracy: 0.9270\n",
      "Epoch 4/5\n",
      "32/32 [==============================] - 0s 1ms/step - loss: 0.2089 - sparse_categorical_accuracy: 0.9510\n",
      "Epoch 5/5\n",
      "32/32 [==============================] - 0s 1ms/step - loss: 0.1687 - sparse_categorical_accuracy: 0.9570\n"
     ]
    },
    {
     "name": "stderr",
     "output_type": "stream",
     "text": [
      "/Users/umberto/miniforge3/envs/tf-jan24/lib/python3.11/site-packages/keras/src/engine/training.py:3103: UserWarning: You are saving your model as an HDF5 file via `model.save()`. This file format is considered legacy. We recommend using instead the native Keras format, e.g. `model.save('my_model.keras')`.\n",
      "  saving_api.save_model(\n"
     ]
    }
   ],
   "source": [
    "# Create and train a new model instance.\n",
    "model = create_model()\n",
    "model.fit(train_images, train_labels, epochs=5)\n",
    "\n",
    "# Save the entire model to a HDF5 file.\n",
    "# The '.h5' extension indicates that the model should be saved to HDF5.\n",
    "model.save('my_model.h5') "
   ]
  },
  {
   "cell_type": "markdown",
   "metadata": {
    "id": "GWmttMOqS68S"
   },
   "source": [
    "Now, recreate the model from that file:"
   ]
  },
  {
   "cell_type": "code",
   "execution_count": 22,
   "metadata": {
    "execution": {
     "iopub.execute_input": "2023-12-07T03:14:28.523686Z",
     "iopub.status.busy": "2023-12-07T03:14:28.523048Z",
     "iopub.status.idle": "2023-12-07T03:14:28.598095Z",
     "shell.execute_reply": "2023-12-07T03:14:28.597416Z"
    },
    "id": "5NDMO_7kS6Do"
   },
   "outputs": [
    {
     "name": "stdout",
     "output_type": "stream",
     "text": [
      "Model: \"sequential_7\"\n",
      "_________________________________________________________________\n",
      " Layer (type)                Output Shape              Param #   \n",
      "=================================================================\n",
      " dense_14 (Dense)            (None, 512)               401920    \n",
      "                                                                 \n",
      " dropout_7 (Dropout)         (None, 512)               0         \n",
      "                                                                 \n",
      " dense_15 (Dense)            (None, 10)                5130      \n",
      "                                                                 \n",
      "=================================================================\n",
      "Total params: 407050 (1.55 MB)\n",
      "Trainable params: 407050 (1.55 MB)\n",
      "Non-trainable params: 0 (0.00 Byte)\n",
      "_________________________________________________________________\n"
     ]
    }
   ],
   "source": [
    "# Recreate the exact same model, including its weights and the optimizer\n",
    "new_model = tf.keras.models.load_model('my_model.h5')\n",
    "\n",
    "# Show the model architecture\n",
    "new_model.summary()"
   ]
  },
  {
   "cell_type": "markdown",
   "metadata": {
    "id": "JXQpbTicTBwt"
   },
   "source": [
    "Check its accuracy:"
   ]
  },
  {
   "cell_type": "code",
   "execution_count": 23,
   "metadata": {
    "execution": {
     "iopub.execute_input": "2023-12-07T03:14:28.605707Z",
     "iopub.status.busy": "2023-12-07T03:14:28.605437Z",
     "iopub.status.idle": "2023-12-07T03:14:28.851703Z",
     "shell.execute_reply": "2023-12-07T03:14:28.850694Z"
    },
    "id": "jwEaj9DnTCVA"
   },
   "outputs": [
    {
     "name": "stdout",
     "output_type": "stream",
     "text": [
      "32/32 - 0s - loss: 0.4286 - sparse_categorical_accuracy: 0.8560 - 79ms/epoch - 2ms/step\n",
      "Restored model, accuracy: 85.60%\n"
     ]
    }
   ],
   "source": [
    "loss, acc = new_model.evaluate(test_images, test_labels, verbose=2)\n",
    "print('Restored model, accuracy: {:5.2f}%'.format(100 * acc))"
   ]
  },
  {
   "cell_type": "markdown",
   "metadata": {
    "id": "dGXqd4wWJl8O"
   },
   "source": [
    "Keras saves models by inspecting their architectures. This technique saves everything:\n",
    "\n",
    "* The weight values\n",
    "* The model's architecture\n",
    "* The model's training configuration (what you pass to the `.compile()` method)\n",
    "* The optimizer and its state, if any (this enables you to restart training where you left off)\n",
    "\n",
    "Keras is not able to save the `v1.x` optimizers (from `tf.compat.v1.train`) since they aren't compatible with checkpoints. For v1.x optimizers, you need to re-compile the model after loading—losing the state of the optimizer.\n"
   ]
  },
  {
   "cell_type": "markdown",
   "metadata": {
    "id": "kAUKJQyGqTNH"
   },
   "source": [
    "### Saving custom objects\n",
    "\n",
    "If you are using the SavedModel format, you can skip this section. The key difference between high-level `.keras`/HDF5 formats and the low-level SavedModel format is that the `.keras`/HDF5 formats uses object configs to save the model architecture, while SavedModel saves the execution graph. Thus, SavedModels are able to save custom objects like subclassed models and custom layers without requiring the original code. However, debugging low-level SavedModels can be more difficult as a result, and we recommend using the high-level `.keras` format instead due to its name-based, Keras-native nature.\n",
    "\n",
    "To save custom objects to `.keras` and HDF5, you must do the following:\n",
    "\n",
    "1. Define a `get_config` method in your object, and optionally a `from_config` classmethod.\n",
    "  * `get_config(self)` returns a JSON-serializable dictionary of parameters needed to recreate the object.\n",
    "  * `from_config(cls, config)` uses the returned config from `get_config` to create a new object. By default, this function will use the config as initialization kwargs (`return cls(**config)`).\n",
    "2. Pass the custom objects to the model in one of three ways:\n",
    "  - Register the custom object with the `@tf.keras.utils.register_keras_serializable` decorator. **(recommended)**\n",
    "  - Directly pass the object to the `custom_objects` argument when loading the model. The argument must be a dictionary mapping the string class name to the Python class. E.g. `tf.keras.models.load_model(path, custom_objects={'CustomLayer': CustomLayer})`\n",
    "  - Use a `tf.keras.utils.custom_object_scope` with the object included in the `custom_objects` dictionary argument, and place a `tf.keras.models.load_model(path)` call within the scope.\n",
    "\n",
    "Refer to the [Writing layers and models from scratch](https://www.tensorflow.org/guide/keras/custom_layers_and_models) tutorial for examples of custom objects and `get_config`.\n"
   ]
  },
  {
   "cell_type": "markdown",
   "metadata": {
    "id": "jBVTkkUIkEF3"
   },
   "source": [
    "# APPENDIX A - The HDF5 Format\n",
    "\n",
    "HDF5 (Hierarchical Data Format version 5) is a widely used file format for storing and managing large and complex datasets or models. It was designed to address the needs of scientific and engineering applications that require efficient and flexible data storage and retrieval. HDF5 is platform-independent and supports hierarchical data structures, making it an excellent choice for storing a wide range of data types, including numerical data, images, text, and more. Here are some key characteristics and features of the HDF5 format:\n",
    "\n",
    "1. **Hierarchical Structure:** HDF5 files are organized into a hierarchical structure, similar to a file system. They consist of groups and datasets, where groups can contain other groups or datasets. This hierarchical organization allows for logical grouping and management of data.\n",
    "\n",
    "2. **Support for Multiple Data Types:** HDF5 supports various data types, including integers, floating-point numbers, strings, compound data types, and more. This flexibility makes it suitable for storing diverse data types within the same file.\n",
    "\n",
    "3. **Chunking:** HDF5 allows data to be stored in chunks, which can improve data access and compression efficiency. Users can define the chunk size based on their specific data access patterns.\n",
    "\n",
    "4. **Compression:** HDF5 provides built-in support for data compression, which can significantly reduce file size while maintaining data integrity. You can choose from several compression algorithms, such as GZIP or LZF, depending on your needs.\n",
    "\n",
    "5. **Metadata:** HDF5 files can store metadata, which includes attributes and annotations that describe the data within the file. This metadata can be used to document and provide context for the stored data.\n",
    "\n",
    "6. **Data Slicing:** HDF5 allows for efficient data slicing, enabling users to access and manipulate specific portions of large datasets without loading the entire dataset into memory.\n",
    "\n",
    "7. **Cross-Platform Compatibility:** HDF5 files are designed to be platform-independent, meaning they can be created on one platform and read on another without compatibility issues. This makes it suitable for sharing data across different operating systems and architectures.\n",
    "\n",
    "8. **Language Support:** HDF5 libraries are available for various programming languages, including Python, C/C++, MATLAB, Java, and more. This wide range of language support makes it accessible to a broad user base.\n",
    "\n",
    "9. **Parallel I/O:** HDF5 provides support for parallel I/O, which is essential for high-performance computing applications that involve multiple processors or nodes.\n",
    "\n",
    "10. **Extensibility:** HDF5 allows users to define their own data structures and data types, making it versatile for handling custom data formats and requirements.\n",
    "\n",
    "## HDF5 Format for Keras Models\n",
    "\n",
    "The HDF5 (Hierarchical Data Format version 5) format is commonly used to store Keras models because it provides a structured way to save all the necessary information about a neural network model. When you save a Keras model in HDF5 format, you're essentially saving the model's architecture, weights, optimizer configuration, and any custom objects it may contain. Here's an overview of how Keras models are stored in HDF5 format:\n",
    "\n",
    "1. **Model Architecture:** The HDF5 file stores the complete model architecture, including all the layers and their configurations. This includes information about layer types, activation functions, input shapes, and any other relevant layer-specific settings. This information is saved in a structured manner, making it possible to reconstruct the model's architecture accurately when you load it later.\n",
    "\n",
    "2. **Model Weights:** The HDF5 file contains the model's weight parameters. These weights represent the learned parameters of the model, such as the weights and biases of each layer's neurons. Saving and loading weights is essential for preserving the knowledge gained during training.\n",
    "\n",
    "3. **Optimizer State:** If you save a model after training it, the HDF5 file includes the state of the optimizer. This includes the optimizer's configuration and the current values of all its internal variables. When you load the model, it restores the optimizer state, allowing you to continue training from where you left off.\n",
    "\n",
    "4. **Custom Objects:** If your Keras model includes custom layers, loss functions, or other custom objects, the HDF5 format allows you to save and load these custom components. However, you may need to provide a `custom_objects` dictionary when loading the model to tell Keras how to reconstruct these custom objects correctly.\n",
    "\n",
    "Here's a basic example of how to save a Keras model in HDF5 format:\n",
    "\n",
    "```python\n",
    "from keras.models import Sequential\n",
    "from keras.layers import Dense\n",
    "\n",
    "# Create a simple Sequential model\n",
    "model = Sequential()\n",
    "model.add(Dense(64, activation='relu', input_shape=(784,)))\n",
    "model.add(Dense(10, activation='softmax'))\n",
    "\n",
    "# Compile and train the model\n",
    "\n",
    "# Save the model to an HDF5 file\n",
    "model.save('my_model.h5')\n",
    "```\n",
    "\n",
    "To load the model later:\n",
    "\n",
    "```python\n",
    "from keras.models import load_model\n",
    "\n",
    "# Load the saved model from the HDF5 file\n",
    "loaded_model = load_model('my_model.h5')\n",
    "\n",
    "# Now, you can use the loaded_model for inference or further training\n",
    "```\n"
   ]
  }
 ],
 "metadata": {
  "accelerator": "GPU",
  "colab": {
   "collapsed_sections": [],
   "name": "save_and_load.ipynb",
   "toc_visible": true
  },
  "kernelspec": {
   "display_name": "Python 3",
   "name": "python3"
  },
  "language_info": {
   "codemirror_mode": {
    "name": "ipython",
    "version": 3
   },
   "file_extension": ".py",
   "mimetype": "text/x-python",
   "name": "python",
   "nbconvert_exporter": "python",
   "pygments_lexer": "ipython3",
   "version": "3.11.7"
  }
 },
 "nbformat": 4,
 "nbformat_minor": 0
}
